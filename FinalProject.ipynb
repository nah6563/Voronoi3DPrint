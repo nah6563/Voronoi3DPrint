{
 "cells": [
  {
   "cell_type": "markdown",
   "metadata": {},
   "source": [
    "# Voronoi Infill Generation\n",
    " ### Nathan Harding\n",
    " Note: I know the plural of index is indices"
   ]
  },
  {
   "cell_type": "code",
   "execution_count": null,
   "metadata": {},
   "outputs": [],
   "source": [
    "from scipy.spatial import Delaunay, Voronoi, voronoi_plot_2d\n",
    "import matplotlib.pyplot as plt\n",
    "import matplotlib.tri as mtri\n",
    "import numpy as np\n",
    "from mpl_toolkits.mplot3d import Axes3D  # noqa: F401 unused import\n",
    "from stl import mesh\n",
    "from copy import deepcopy\n",
    "from random import random"
   ]
  },
  {
   "cell_type": "markdown",
   "metadata": {},
   "source": [
    "# Constants"
   ]
  },
  {
   "cell_type": "code",
   "execution_count": null,
   "metadata": {},
   "outputs": [],
   "source": [
    "# Maximum number of tries to insert a point\n",
    "maxAttempts = 1000\n",
    "# Number of desired points\n",
    "successfulAttempts = 15"
   ]
  },
  {
   "cell_type": "markdown",
   "metadata": {},
   "source": [
    "# Point Functions"
   ]
  },
  {
   "cell_type": "code",
   "execution_count": null,
   "metadata": {},
   "outputs": [],
   "source": [
    "#Find all points in the stl\n",
    "def getPoints(stlMesh):\n",
    "    allPointsSet = set([tuple(point) for point in stlMesh.v0])\n",
    "    allPointsSet = allPointsSet.union(set([tuple(point) for point in stlMesh.v1]))\n",
    "    allPointsSet = allPointsSet.union(set([tuple(point) for point in stlMesh.v2]))\n",
    "    allPointsSet = list(allPointsSet)\n",
    "    allPoints = np.array(allPointsSet)\n",
    "    return allPoints\n",
    "\n",
    "\n",
    "# Generate a random point within the bounding box of the stl\n",
    "def generateRandomPoint():\n",
    "    x = random() * (maxX - minX) + minX\n",
    "    y = random() * (maxY - minY) + minY\n",
    "    z = random() * (maxZ - minZ) + minZ\n",
    "    return np.array([x, y, z])"
   ]
  },
  {
   "cell_type": "markdown",
   "metadata": {},
   "source": [
    "# Ridge Functions"
   ]
  },
  {
   "cell_type": "code",
   "execution_count": null,
   "metadata": {},
   "outputs": [],
   "source": [
    "# Find the ridges that surround a point\n",
    "def findRidgeIndexes(point, vor):\n",
    "    #Finds the point's index\n",
    "    point_index = np.argmin(np.sum((allPoints - point)**2, axis=1))\n",
    "    # Finds all ridges containing that point\n",
    "    return np.where(vor.ridge_points == point_index)[0]\n",
    "\n",
    "\n",
    "# Find the indexes of vertices a set of ridges refer to\n",
    "def findRidgeVerticesIndexesFromIndexes(indexes, vor):\n",
    "    vertices = set()\n",
    "    for index in indexes:\n",
    "        for vertex in vor.ridge_vertices[index]:\n",
    "            vertices.add(vertex)\n",
    "    return list(vertices)\n",
    "\n",
    "\n",
    "# Find the Vertices given their indexes\n",
    "def findRidgeVerticesFromIndexes(indexes, vor):\n",
    "    return vor.vertices[indexes]\n",
    "\n",
    "\n",
    "# Given a point, find the vertices belonging to its region\n",
    "def findVerticesFromRegion(point, vor):\n",
    "    ridges = findRidgeIndexes(point, vor)\n",
    "    vertexIndexes = findRidgeVerticesIndexesFromIndexes(ridges, vor)\n",
    "    return findRidgeVerticesFromIndexes(vertexIndexes, vor)"
   ]
  },
  {
   "cell_type": "markdown",
   "metadata": {},
   "source": [
    "# Region Functions"
   ]
  },
  {
   "cell_type": "code",
   "execution_count": null,
   "metadata": {},
   "outputs": [],
   "source": [
    "# Find all regions neighboring a given point's region\n",
    "def findNeighboringRegions(point, vor):\n",
    "    point_index = np.argmin(np.sum((vor.points - point)**2, axis=1))\n",
    "    region = vor.point_region[point_index]\n",
    "    ridges = vor.regions[region]\n",
    "    neighboringRegions = set()\n",
    "    for ridge in ridges:\n",
    "        for i in range(len(vor.regions)):\n",
    "            if ridge in vor.regions[i] and i != region:\n",
    "                neighboringRegions.add(i)\n",
    "    return list(neighboringRegions)\n",
    "\n",
    "\n",
    "#Gets point indexes of given regions\n",
    "def getPointsIndexesFromRegions(regions, vor):\n",
    "    points = []\n",
    "    for region in regions:\n",
    "        points.append(np.where(vor.point_region == region)[0][0])\n",
    "    return points\n",
    "\n",
    "\n",
    "# Gets points given indexes\n",
    "def getPointsFromIndexes(indexes, vor):\n",
    "    return vor.points[indexes]\n",
    "\n",
    "\n",
    "#Get all the point indexes surrounding a given region\n",
    "def findNeighboringPoints(point, vor):\n",
    "    regions = findNeighboringRegions(point,vor)\n",
    "    indexes = getPointsIndexesFromRegions(regions,vor)\n",
    "    return getPointsFromIndexes(indexes,vor)"
   ]
  },
  {
   "cell_type": "markdown",
   "metadata": {},
   "source": [
    "# STL \\ Triangle Functions"
   ]
  },
  {
   "cell_type": "code",
   "execution_count": null,
   "metadata": {},
   "outputs": [],
   "source": [
    "# Given a point, find all triangles' indexes from the stl that include it\n",
    "def findTriangleIndexesFromPoint(point):\n",
    "    triangles = []\n",
    "    triangleIndexes = []\n",
    "    for i in range(len(stlMesh.v1)):\n",
    "        if stlMesh.v0[i][0] == point[0] and stlMesh.v0[i][1] == point[1] and stlMesh.v0[i][2] == point[2]:\n",
    "            triangleIndexes.append(i)\n",
    "        if stlMesh.v1[i][0] == point[0] and stlMesh.v1[i][1] == point[1] and stlMesh.v1[i][2] == point[2]:\n",
    "            triangleIndexes.append(i)\n",
    "        if stlMesh.v2[i][0] == point[0] and stlMesh.v2[i][1] == point[1] and stlMesh.v2[i][2] == point[2]:\n",
    "            triangleIndexes.append(i)\n",
    "    return triangleIndexes\n",
    "\n",
    "\n",
    "# Get triangles given their indexes \n",
    "def findTrianglesFromIndexes(indexes):\n",
    "    return stlMesh.points[indexes]\n",
    "    \n",
    "\n",
    "# Given a point, find the triangles that it is in\n",
    "def findTrianglesFromPoint(point):\n",
    "    indexes = findTriangleIndexesFromPoint(point)\n",
    "    return findTrianglesFromIndexes(indexes)\n",
    "\n",
    "\n",
    "# Get normals given their indexes\n",
    "def findNormalsFromIndexes(indexes):\n",
    "    return stlMesh.normals[indexes]\n",
    "\n",
    "\n",
    "# Get normals to triangles containing a point\n",
    "def findNormalsFromPoint(point):\n",
    "    indexes = findTriangleIndexesFromPoint(point)\n",
    "    return findNormalsFromIndexes(indexes)\n"
   ]
  },
  {
   "cell_type": "markdown",
   "metadata": {},
   "source": [
    "# Validation Functions"
   ]
  },
  {
   "cell_type": "code",
   "execution_count": null,
   "metadata": {},
   "outputs": [],
   "source": [
    "# Checks if a point is contained inside the triangles containing a given vertex\n",
    "def isPointContained(point, reference, normals):\n",
    "    vector = point - reference\n",
    "    for normal in normals:\n",
    "        if np.inner(vector,normal) > 0:\n",
    "            return False\n",
    "    return True\n",
    "\n",
    "        \n",
    "# Checks if a point and its region are inside the shell\n",
    "def validatePoint(point, vor):\n",
    "    \n",
    "    points = findNeighboringPoints(point, vor)\n",
    "    for p in points:\n",
    "        if p in boundaryPoints:\n",
    "            return False\n",
    "    triangles = findTrianglesFromPoint(points[0])\n",
    "    pointFlag = False\n",
    "    for p in points:\n",
    "        normals = findNormalsFromPoint(p)\n",
    "        if isPointContained(point,p,normals):\n",
    "            pointFlag = True\n",
    "    if not pointFlag:\n",
    "        return False\n",
    "    for vertex in findVerticesFromRegion(point,vor):\n",
    "        vertexFlag = False\n",
    "        for p in points:\n",
    "            if p not in shellPoints:\n",
    "                continue\n",
    "            normals = findNormalsFromPoint(p)\n",
    "            if not isPointContained(vertex,p,normals):\n",
    "                vertexFlag = True\n",
    "        if not vertexFlag:\n",
    "            return False\n",
    "    return True"
   ]
  },
  {
   "cell_type": "markdown",
   "metadata": {},
   "source": [
    "# Construction Functions"
   ]
  },
  {
   "cell_type": "code",
   "execution_count": null,
   "metadata": {},
   "outputs": [],
   "source": [
    "# Find the normal of 3 points given\n",
    "def findNormal(x,y,z,point):\n",
    "    a = np.array(z) - np.array(x)\n",
    "    b = np.array(y) - np.array(x)\n",
    "    normal = np.cross(a,b)\n",
    "    check = np.array(point) - np.array(x)\n",
    "    if np.inner(check,normal) > 0:\n",
    "        normal= normal * -1\n",
    "    return normal / np.linalg.norm(normal)"
   ]
  },
  {
   "cell_type": "markdown",
   "metadata": {},
   "source": [
    "# Main Program"
   ]
  },
  {
   "cell_type": "code",
   "execution_count": null,
   "metadata": {
    "scrolled": true
   },
   "outputs": [],
   "source": [
    "# Get STL\n",
    "#stlMesh = mesh.Mesh.from_file('stl\\\\cube.stl')\n",
    "stlMesh = mesh.Mesh.from_file('PATH_TO_FILE')\n",
    "# Create a list of all unique points\n",
    "allPoints = getPoints(stlMesh)\n",
    "\n",
    "# Create a deepcopy of that list to track original shell points\n",
    "shellPoints = deepcopy(allPoints)\n",
    "\n",
    "#Find Bounding Coord of model\n",
    "x = [point[0] for point in allPoints]\n",
    "y = [point[1] for point in allPoints]\n",
    "z = [point[2] for point in allPoints]\n",
    "maxX = max(x)\n",
    "minX = min(x)\n",
    "maxY = max(y)\n",
    "minY = min(y)\n",
    "maxZ = max(z)\n",
    "minZ = min(z)\n",
    "xFac = 10 * max(abs(maxX),abs(minX))\n",
    "yFac = 10 * max(abs(maxY), abs(minY))\n",
    "zFac = 10 * max(abs(maxZ), abs(minZ))\n",
    "\n",
    "# Create a bounding box for the Voronoi\n",
    "boundaryPoints = np.array([[xFac,0,0], [-xFac,0,0],\n",
    "                          [0,yFac,0], [0,-yFac,0],\n",
    "                          [0,0,zFac], [0,0,-zFac],\n",
    "                          [xFac,yFac,0], [-xFac,yFac,0],\n",
    "                          [xFac,-yFac,0],[-xFac,-yFac,0],\n",
    "                          [xFac,0,zFac], [-xFac,0,zFac],\n",
    "                          [xFac,0,-zFac], [-xFac,0,zFac],\n",
    "                          [0,yFac,zFac], [0,-yFac,zFac],\n",
    "                          [0,yFac,-zFac], [0,-yFac,-zFac],\n",
    "                          [xFac,yFac,zFac], [xFac,yFac,-zFac],\n",
    "                         [xFac,-yFac,zFac], [xFac,-yFac,-zFac],\n",
    "                         [-xFac,yFac,zFac], [-xFac,yFac,-zFac],\n",
    "                         [-xFac,-yFac,zFac], [-xFac,-yFac,-zFac]])\n",
    "allPoints = np.append(allPoints, boundaryPoints, axis = 0)\n",
    "\n",
    "\n",
    "att = 0\n",
    "succ = 0\n",
    "while att < maxAttempts and succ < successfulAttempts:\n",
    "    att += 1\n",
    "    point = generateRandomPoint()\n",
    "    allPoints = np.append( allPoints,[point], axis = 0)\n",
    "    vor = Voronoi(allPoints)\n",
    "    if validatePoint(point, vor):\n",
    "        succ+=1\n",
    "    else:\n",
    "        allPoints = allPoints[:-1]\n",
    "print(\"Added \"+ str(succ)+\" Points\")\n",
    "\n"
   ]
  },
  {
   "cell_type": "markdown",
   "metadata": {},
   "source": [
    "# Construction"
   ]
  },
  {
   "cell_type": "code",
   "execution_count": null,
   "metadata": {
    "scrolled": true
   },
   "outputs": [],
   "source": [
    "pointsToAdd = allPoints[len(shellPoints)+len(boundaryPoints):]\n",
    "pointIndexes = []\n",
    "for point in pointsToAdd:\n",
    "    pointIndexes.append(np.argmin(np.sum((vor.points - point)**2, axis=1)))\n",
    "regionIndexesToAdd = np.array(vor.point_region)[pointIndexes]\n",
    "    \n",
    "\n",
    "trianglesToAdd = []\n",
    "\n",
    "# Loop through all regions\n",
    "for i in range(len(regionIndexesToAdd)):\n",
    "    #Grab the ridges that we need to look at\n",
    "    region = vor.regions[regionIndexesToAdd[i]]\n",
    "    ridges = []\n",
    "    for ridge in region:\n",
    "        ridges.append(vor.ridge_vertices[ridge])\n",
    "        \n",
    "    # Find the normal of each ridge\n",
    "    normals = []\n",
    "    for ridge in ridges:\n",
    "        normals.append(findNormal(*vor.vertices[ridge[:3]],pointsToAdd[i]))\n",
    "    \n",
    "    #Find the Average normal of each vertex in the region\n",
    "    vertexNormal = dict()\n",
    "    vertices = findVerticesFromRegion(pointsToAdd[i], vor)\n",
    "    vertexNormals = np.zeros((len(vertices),3))\n",
    "    for j in range(len(ridges)):\n",
    "        for vertex in ridges[j]:\n",
    "            if vertex in vertexNormal.keys():\n",
    "                vertexNormal[vertex] += normals[j]\n",
    "            else:\n",
    "                vertexNormal[vertex] = normals[j]\n",
    "                \n",
    "    # Normalize the normal of each vertex in the region\n",
    "    for vertex in vertexNormal.keys():\n",
    "        vertexNormal[vertex] /= np.linalg.norm(vertexNormal[vertex])\n",
    "    \n",
    "    # Shift each vertex slightly away in the opposite direction of its average normal\n",
    "    alteredVertex = dict()\n",
    "    for vertex in vertexNormal.keys():\n",
    "        alteredVertex[vertex] = np.array(vor.vertices[vertex])-(vertexNormal[vertex] / 100)\n",
    "\n",
    "    #Create triangles from each vertex\n",
    "    \n",
    "    for ridge in ridges:\n",
    "        for j in range(1,len(ridge)-1):\n",
    "            triangle= []\n",
    "            triangle.append(alteredVertex[ridge[0]])\n",
    "            triangle.append(alteredVertex[ridge[j]])\n",
    "            triangle.append(alteredVertex[ridge[j+1]])\n",
    "            trianglesToAdd.append(deepcopy(triangle))\n"
   ]
  },
  {
   "cell_type": "markdown",
   "metadata": {},
   "source": [
    "# Output"
   ]
  },
  {
   "cell_type": "code",
   "execution_count": null,
   "metadata": {},
   "outputs": [],
   "source": [
    "# Create Mesh for output\n",
    "outputMesh = np.zeros(len(trianglesToAdd)+len(stlMesh.points), dtype=mesh.Mesh.dtype)\n",
    "\n",
    "# Add old shell to output\n",
    "for i in range(len(stlMesh.points)):\n",
    "    trianglesToAdd.append(np.array([stlMesh.v0[i],stlMesh.v1[i],stlMesh.v2[i]]))\n",
    "\n",
    "# Add all triangles to new mesh\n",
    "for i in range(len(trianglesToAdd)):\n",
    "    outputMesh['vectors'][i] = np.array(trianglesToAdd[i])\n",
    "\n",
    "# Create Mesh\n",
    "outputMesh = mesh.Mesh(outputMesh)\n",
    "\n",
    "# Save Mesh\n",
    "outputMesh.save('test3.stl')"
   ]
  },
  {
   "cell_type": "code",
   "execution_count": null,
   "metadata": {},
   "outputs": [],
   "source": []
  }
 ],
 "metadata": {
  "kernelspec": {
   "display_name": "Python 3",
   "language": "python",
   "name": "python3"
  },
  "language_info": {
   "codemirror_mode": {
    "name": "ipython",
    "version": 3
   },
   "file_extension": ".py",
   "mimetype": "text/x-python",
   "name": "python",
   "nbconvert_exporter": "python",
   "pygments_lexer": "ipython3",
   "version": "3.8.5"
  }
 },
 "nbformat": 4,
 "nbformat_minor": 2
}
